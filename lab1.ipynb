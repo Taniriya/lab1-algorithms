{
  "nbformat": 4,
  "nbformat_minor": 0,
  "metadata": {
    "colab": {
      "provenance": [],
      "toc_visible": true,
      "include_colab_link": true
    },
    "kernelspec": {
      "name": "python3",
      "display_name": "Python 3"
    },
    "language_info": {
      "name": "python"
    }
  },
  "cells": [
    {
      "cell_type": "markdown",
      "metadata": {
        "id": "view-in-github",
        "colab_type": "text"
      },
      "source": [
        "<a href=\"https://colab.research.google.com/github/Taniriya/lab1-algorithms/blob/main/lab1.ipynb\" target=\"_parent\"><img src=\"https://colab.research.google.com/assets/colab-badge.svg\" alt=\"Open In Colab\"/></a>"
      ]
    },
    {
      "cell_type": "markdown",
      "metadata": {
        "id": "ee8b51a5"
      },
      "source": [
        "# Задание 2 сложная задача\n",
        "\n",
        "Напишите программу, которая считывает строку из маленьких латинских букв и определяет, **какая буква встречается чаще всего**.\n",
        "Если несколько букв встречаются одинаково часто — выведите первую по алфавиту.\n",
        "\n",
        "### Пример\n",
        "`Ввод:` abbccc\n",
        "`Вывод:` c\n",
        "\n",
        "### Подсказка\n",
        "- Используйте словарь для подсчёта количества каждой буквы.\n",
        "- Сравнивайте частоты и выбирайте минимальный ключ при равенстве.\n",
        "- Старайтесь уложиться в 10–12 строк кода."
      ]
    },
    {
      "cell_type": "code",
      "metadata": {
        "id": "96f53500",
        "colab": {
          "base_uri": "https://localhost:8080/"
        },
        "outputId": "05c78c39-f41d-451e-e871-5405b49574c1"
      },
      "source": [
        "# Создаём список из введенного слова\n",
        "word = [i for i in input(\"Введите ваше слово: \")]\n",
        "# Создаём пустой словарь\n",
        "syllables = dict()\n",
        "# Заполняем словарь, где ключ - это буква, а значение - сколько раз повторяется буква\n",
        "for i in range(len(word)):\n",
        "  if word[i] not in syllables:\n",
        "    syllables[word[i]] = 1\n",
        "  else:\n",
        "    syllables[word[i]] = syllables[word[i]] + 1\n",
        "# Находим максимальное значение в словаре\n",
        "max_value = max(syllables.values())\n",
        "# Создаем список для нахождения ключей с максимальным значением\n",
        "keys = []\n",
        "for key, value in syllables.items():\n",
        "  if value == max_value:\n",
        "    keys.append(key)\n",
        "# Сортируем список, чтобы ключи стояли в алфавитном порядке\n",
        "keys.sort()\n",
        "# Выводим первую букву по алфавиту\n",
        "print(keys[0])"
      ],
      "execution_count": 5,
      "outputs": [
        {
          "output_type": "stream",
          "name": "stdout",
          "text": [
            "Введите ваше слово: abbccc\n",
            "c\n"
          ]
        }
      ]
    },
    {
      "cell_type": "markdown",
      "metadata": {
        "id": "f72ab688"
      },
      "source": [
        "# Задание 3 очень сложная задача\n",
        "\n",
        "На вход подаётся список положительных чисел. Нужно определить, **сколько существует непрерывных подпоследовательностей, сумма которых равна заданному числу `S`**.\n",
        "\n",
        "### Пример\n",
        "`Список:` [1, 2, 1, 3, 2]\n",
        "`S = 3`\n",
        "`Вывод:` 3\n",
        "\n",
        "Объяснение: подпоследовательности с суммой 3 → [1,2], [2,1], [3].\n",
        "\n",
        "### Подсказка\n",
        "- Используйте две вложенные петли или технику скользящего окна.\n",
        "- Используйте только базовый синтаксис: циклы, условия, списки, переменные."
      ]
    },
    {
      "cell_type": "code",
      "metadata": {
        "id": "b6b2c632",
        "colab": {
          "base_uri": "https://localhost:8080/"
        },
        "outputId": "0c278a12-9483-49e1-96c0-f1f2a9ebc09d"
      },
      "source": [
        "# Создаём список из ввёденных цифр\n",
        "num_list = [int(i) for i in input()]\n",
        "# Создаём переменную S\n",
        "s = int(input())\n",
        "# Создаём счётчик для подсчёта подпоследовательностей\n",
        "ans = 0\n",
        "# Используем два цикла for для нахождения подпоследовательностей\n",
        "for i in range(len(num_list)):\n",
        "  line = []\n",
        "  for j in range(i, len(num_list)):\n",
        "    if sum(line) < s:\n",
        "      line.append(num_list[j])\n",
        "    elif sum(line) == s:\n",
        "      ans += 1\n",
        "      break\n",
        "    else:\n",
        "      break\n",
        "# Выводим ответ\n",
        "print(ans)"
      ],
      "execution_count": 2,
      "outputs": [
        {
          "output_type": "stream",
          "name": "stdout",
          "text": [
            "12132\n",
            "3\n",
            "3\n"
          ]
        }
      ]
    }
  ]
}