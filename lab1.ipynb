{
  "nbformat": 4,
  "nbformat_minor": 0,
  "metadata": {
    "colab": {
      "provenance": [],
      "toc_visible": true,
      "authorship_tag": "ABX9TyN0qql1Z46I+2ZNkYEzsQg0",
      "include_colab_link": true
    },
    "kernelspec": {
      "name": "python3",
      "display_name": "Python 3"
    },
    "language_info": {
      "name": "python"
    }
  },
  "cells": [
    {
      "cell_type": "markdown",
      "metadata": {
        "id": "view-in-github",
        "colab_type": "text"
      },
      "source": [
        "<a href=\"https://colab.research.google.com/github/Taniriya/lab1-algorithms/blob/main/lab1.ipynb\" target=\"_parent\"><img src=\"https://colab.research.google.com/assets/colab-badge.svg\" alt=\"Open In Colab\"/></a>"
      ]
    },
    {
      "cell_type": "markdown",
      "source": [
        "### **Лабораторная работа №1: Практические задания**\n",
        "\n",
        "**Тема: \"Выживший детектив: первое погружение в анализ данных с Python и Pandas\"**\n",
        "\n",
        "**Цель:** Используя данные о пассажирах \"Титаника\", провести расследование: очистить \"улики\", найти скрытые закономерности и ответить на вопросы о факторах, повлиявших на выживание."
      ],
      "metadata": {
        "id": "VFL4K0dUee_K"
      }
    },
    {
      "cell_type": "markdown",
      "source": [
        "#### **Часть 1: Загрузка улик и первый осмотр**\n",
        "\n",
        "Эти задачи обязательны для всех. Они познакомят вас с базовым синтаксисом и основными командами для \"осмотра\" данных.\n",
        "\n",
        "*   **Задание 1.1:** Импортируйте библиотеку `pandas` под общепринятым псевдонимом `pd`.\n",
        "*   **Задание 1.2:** Прочитайте файл `titanic.csv` в DataFrame с именем `df`.\n",
        "*   **Задание 1.3:** Проведите первичный осмотр данных:\n",
        "    *   Выведите на экран первые 7 строк таблицы с помощью метода `.head()`.\n",
        "    *   Используйте метод `.info()` для получения технической сводки о данных. **Запишите в комментарии к коду ответ: в каких столбцах есть пропущенные значения?**\n",
        "    *   Используйте метод `.describe()` для получения статистической сводки. **Запишите в комментарии: какой был средний возраст пассажиров и максимальная цена за билет (`Fare`)?**"
      ],
      "metadata": {
        "id": "-xD9niMwd855"
      }
    },
    {
      "cell_type": "code",
      "source": [
        "# Часть 1\n",
        "import pandas as pd\n",
        "\n",
        "\n",
        "# Читаем файл titanic.csv\n",
        "df = pd.read_csv('https://raw.githubusercontent.com/datasciencedojo/datasets/master/titanic.csv')\n",
        "\n",
        "# Выводим первые 7 строк таблицы\n",
        "print(df.head(7))\n",
        "# Выводим информацию о таблице\n",
        "print(df.info())\n",
        "# В столбцах Age (177), Cabin (687), Embarked (2) есть пропущенные значения (кол-во пропущенных значений)\n",
        "\n",
        "# Получаем статистическую сводку\n",
        "print(df.describe())\n",
        "# Cредний (mean) возраст пассажиров (Age) - 29.699118\n",
        "# Максимальная (max) цена за билет (Fare) - 512.329200"
      ],
      "metadata": {
        "colab": {
          "base_uri": "https://localhost:8080/"
        },
        "id": "7ba0yWCUeCoh",
        "outputId": "e902d85f-5630-4786-aea7-a145983d2894"
      },
      "execution_count": 40,
      "outputs": [
        {
          "output_type": "stream",
          "name": "stdout",
          "text": [
            "   PassengerId  Survived  Pclass  \\\n",
            "0            1         0       3   \n",
            "1            2         1       1   \n",
            "2            3         1       3   \n",
            "3            4         1       1   \n",
            "4            5         0       3   \n",
            "5            6         0       3   \n",
            "6            7         0       1   \n",
            "\n",
            "                                                Name     Sex   Age  SibSp  \\\n",
            "0                            Braund, Mr. Owen Harris    male  22.0      1   \n",
            "1  Cumings, Mrs. John Bradley (Florence Briggs Th...  female  38.0      1   \n",
            "2                             Heikkinen, Miss. Laina  female  26.0      0   \n",
            "3       Futrelle, Mrs. Jacques Heath (Lily May Peel)  female  35.0      1   \n",
            "4                           Allen, Mr. William Henry    male  35.0      0   \n",
            "5                                   Moran, Mr. James    male   NaN      0   \n",
            "6                            McCarthy, Mr. Timothy J    male  54.0      0   \n",
            "\n",
            "   Parch            Ticket     Fare Cabin Embarked  \n",
            "0      0         A/5 21171   7.2500   NaN        S  \n",
            "1      0          PC 17599  71.2833   C85        C  \n",
            "2      0  STON/O2. 3101282   7.9250   NaN        S  \n",
            "3      0            113803  53.1000  C123        S  \n",
            "4      0            373450   8.0500   NaN        S  \n",
            "5      0            330877   8.4583   NaN        Q  \n",
            "6      0             17463  51.8625   E46        S  \n",
            "<class 'pandas.core.frame.DataFrame'>\n",
            "RangeIndex: 891 entries, 0 to 890\n",
            "Data columns (total 12 columns):\n",
            " #   Column       Non-Null Count  Dtype  \n",
            "---  ------       --------------  -----  \n",
            " 0   PassengerId  891 non-null    int64  \n",
            " 1   Survived     891 non-null    int64  \n",
            " 2   Pclass       891 non-null    int64  \n",
            " 3   Name         891 non-null    object \n",
            " 4   Sex          891 non-null    object \n",
            " 5   Age          714 non-null    float64\n",
            " 6   SibSp        891 non-null    int64  \n",
            " 7   Parch        891 non-null    int64  \n",
            " 8   Ticket       891 non-null    object \n",
            " 9   Fare         891 non-null    float64\n",
            " 10  Cabin        204 non-null    object \n",
            " 11  Embarked     889 non-null    object \n",
            "dtypes: float64(2), int64(5), object(5)\n",
            "memory usage: 83.7+ KB\n",
            "None\n",
            "       PassengerId    Survived      Pclass         Age       SibSp  \\\n",
            "count   891.000000  891.000000  891.000000  714.000000  891.000000   \n",
            "mean    446.000000    0.383838    2.308642   29.699118    0.523008   \n",
            "std     257.353842    0.486592    0.836071   14.526497    1.102743   \n",
            "min       1.000000    0.000000    1.000000    0.420000    0.000000   \n",
            "25%     223.500000    0.000000    2.000000   20.125000    0.000000   \n",
            "50%     446.000000    0.000000    3.000000   28.000000    0.000000   \n",
            "75%     668.500000    1.000000    3.000000   38.000000    1.000000   \n",
            "max     891.000000    1.000000    3.000000   80.000000    8.000000   \n",
            "\n",
            "            Parch        Fare  \n",
            "count  891.000000  891.000000  \n",
            "mean     0.381594   32.204208  \n",
            "std      0.806057   49.693429  \n",
            "min      0.000000    0.000000  \n",
            "25%      0.000000    7.910400  \n",
            "50%      0.000000   14.454200  \n",
            "75%      0.000000   31.000000  \n",
            "max      6.000000  512.329200  \n"
          ]
        }
      ]
    },
    {
      "cell_type": "markdown",
      "source": [
        "#### **Часть 2: Очистка данных и подготовка к анализу (Инженерия признаков)**\n",
        "\n",
        "На этом этапе мы приведем \"улики\" в порядок. Здесь начинается настоящая детективная работа.\n",
        "\n",
        "*   **Задание 2.1 (Обязательно для всех): Заполнение пропусков простым методом.**\n",
        "    *   В столбце `Age` есть пропуски. Самый быстрый способ их закрыть — использовать общее для всех значение.\n",
        "    *   **Задача:** Посчитайте **медианный** возраст всех пассажиров и заполните им все пропущенные значения в столбце `Age`.\n",
        "    *   **Проверка:** Убедитесь, что в столбце `Age` больше нет пропусков, снова вызвав `.info()`.\n",
        "\n",
        "*   **Задание 2.2 (Обязательно для всех): Написание собственного алгоритма категоризации.**\n",
        "    *   Числовой возраст не всегда удобен для анализа. Гораздо показательнее анализировать выживаемость по возрастным группам.\n",
        "    *   **Задача:**\n",
        "        1.  **Напишите на Python функцию `get_age_group(age)` с использованием `def`.**\n",
        "            *   Эта функция должна принимать на вход возраст (`age`).\n",
        "            *   Алгоритм внутри функции: если возраст меньше 18, функция должна возвращать строку \"Ребенок\"; если возраст от 18 до 65 (включительно) — \"Взрослый\"; если старше 65 — \"Пожилой\".\n",
        "        2.  Создайте в DataFrame новый столбец `AgeGroup`.\n",
        "        3.  Примените вашу функцию `get_age_group` ко всему столбцу `Age` с помощью метода `.apply()` и сохраните результат в столбец `AgeGroup`.\n",
        "    *   **Проверка:** Выведите первые 5 строк и убедитесь, что новый столбец появился и заполнен корректно.\n",
        "\n",
        "*   **Задание 2.3 (Задание со звездочкой \\* для продвинутых): Контекстное заполнение пропусков.**\n",
        "    *   *Это задание выполняется ВМЕСТО задания 2.1. Если вы его делаете, не выполняйте простое заполнение медианой.*\n",
        "    *   **Гипотеза:** Возраст людей сильно зависит от их социального статуса. Давайте заполним пропуски в возрасте не общей медианой, а более релевантным значением.\n",
        "    *   **Задача:** Заполнить пропущенные значения в `Age` медианным возрастом, рассчитанным для каждой группы отдельно в зависимости от **пола** (`Sex`) и **класса каюты** (`Pclass`).\n",
        "    *   **Подсказка:** Вам может понадобиться комбинация методов `.groupby()` и `.transform()`. Это сложная, но очень мощная техника!"
      ],
      "metadata": {
        "id": "vw8ELvg_eGuM"
      }
    },
    {
      "cell_type": "code",
      "source": [
        "'''\n",
        "# Часть 2.1\n",
        "# Находим медианный возраст пассажиров\n",
        "median_age = df['Age'].median()\n",
        "# Заполняем пустые ячейки\n",
        "df['Age'] = df['Age'].fillna(median_age)\n",
        "# Проверяем, что в столбце Age больше нет пропусков\n",
        "print(df.info())\n",
        "'''\n",
        "# Часть 2.3\n",
        "# Создаем таблицу, где пол и класс сгруппированны по возрасту\n",
        "grouped_mean_age = df.groupby(['Sex', 'Pclass'])['Age']\n",
        "# С помощью transform заполняем пустые ячейки в основной таблице\n",
        "df['Age'] = df['Age'].fillna(grouped_mean_age.transform('median'))\n",
        "\n",
        "# Часть 2.2\n",
        "# Функция, сортирующая людей на три возрастные группы\n",
        "def get_age_group(age):\n",
        "  if age < 18:\n",
        "    return \"Ребёнок\"\n",
        "  elif age > 65:\n",
        "    return \"Пожилой\"\n",
        "  else:\n",
        "    return \"Взрослый\"\n",
        "# Создание нового столбца AgeGroup\n",
        "df['AgeGroup'] = df['Age'].apply(get_age_group)\n",
        "# Проверяем\n",
        "print(df.head())"
      ],
      "metadata": {
        "colab": {
          "base_uri": "https://localhost:8080/"
        },
        "id": "kz9kAyrSeLGm",
        "outputId": "58427e13-2c4f-4d73-b833-aefe48aa5b84"
      },
      "execution_count": 41,
      "outputs": [
        {
          "output_type": "stream",
          "name": "stdout",
          "text": [
            "   PassengerId  Survived  Pclass  \\\n",
            "0            1         0       3   \n",
            "1            2         1       1   \n",
            "2            3         1       3   \n",
            "3            4         1       1   \n",
            "4            5         0       3   \n",
            "\n",
            "                                                Name     Sex   Age  SibSp  \\\n",
            "0                            Braund, Mr. Owen Harris    male  22.0      1   \n",
            "1  Cumings, Mrs. John Bradley (Florence Briggs Th...  female  38.0      1   \n",
            "2                             Heikkinen, Miss. Laina  female  26.0      0   \n",
            "3       Futrelle, Mrs. Jacques Heath (Lily May Peel)  female  35.0      1   \n",
            "4                           Allen, Mr. William Henry    male  35.0      0   \n",
            "\n",
            "   Parch            Ticket     Fare Cabin Embarked  AgeGroup  \n",
            "0      0         A/5 21171   7.2500   NaN        S  Взрослый  \n",
            "1      0          PC 17599  71.2833   C85        C  Взрослый  \n",
            "2      0  STON/O2. 3101282   7.9250   NaN        S  Взрослый  \n",
            "3      0            113803  53.1000  C123        S  Взрослый  \n",
            "4      0            373450   8.0500   NaN        S  Взрослый  \n"
          ]
        }
      ]
    },
    {
      "cell_type": "markdown",
      "source": [
        "#### **Часть 3: Поиск закономерностей и ответов на вопросы**\n",
        "\n",
        "Теперь, когда данные чисты, мы можем начать \"допрос\" — задавать данным вопросы и получать ответы.\n",
        "\n",
        "*   **Задание 3.1 (Обязательно для всех): Анализ выживаемости по полу и классу.**\n",
        "    *   Используя алгоритм **Split-Apply-Combine** (метод `.groupby()`), найдите ответы на вопросы:\n",
        "        1.  Какой процент мужчин и женщин выжил?\n",
        "        2.  Какой процент пассажиров выжил в каждом из трех классов (`Pclass`)?\n",
        "        3.  Создайте сводную таблицу, показывающую процент выживших в зависимости **одновременно** от пола и класса каюты.\n",
        "\n",
        "*   **Задание 3.2 (Обязательно для всех): Фильтрация и сортировка.**\n",
        "    *   Используя фильтрацию и сортировку, найдите:\n",
        "        1.  Имена (столбец `Name`) всех несовершеннолетних (младше 18 лет) пассажиров, которые путешествовали в 3-м классе и выжили. Отсортируйте результат по возрасту в порядке убывания.\n",
        "        2.  Самого пожилого мужчину на борту, который не выжил.\n",
        "\n",
        "*   **Задание 3.3 (Задание со звездочкой \\* для продвинутых): Анализ влияния размера семьи.**\n",
        "    *   **Гипотеза:** Путешествующие в одиночку имели другие шансы на выживание, чем семейные пассажиры.\n",
        "    *   **Задача:**\n",
        "        1.  Создайте новый столбец `FamilySize`, который будет равен сумме значений в столбцах `SibSp` (братья/сестры/супруги) и `Parch` (родители/дети) плюс 1 (сам пассажир).\n",
        "        2.  Создайте еще один столбец `IsAlone` (Одинок). Если `FamilySize` равен 1, значение в этом столбце должно быть 1, иначе — 0.\n",
        "        3.  Используя `.groupby()`, сравните процент выживших среди одиноких пассажиров и тех, кто путешествовал с семьей. Сделайте вывод."
      ],
      "metadata": {
        "id": "vXaPed0cePwM"
      }
    },
    {
      "cell_type": "code",
      "source": [
        "# Часть 3.1\n",
        "# Находим проценты выживших по полу\n",
        "print(df.groupby('Sex')['Survived'].mean())\n",
        "# И по классу\n",
        "print(df.groupby('Pclass')['Survived'].mean())\n",
        "# Сводная таблица столбцы - пол, строки - класс\n",
        "survivors = df.pivot_table(index='Pclass', columns='Sex', values='Survived', aggfunc='mean')\n",
        "print(survivors)\n",
        "\n",
        "# Часть 3.2\n",
        "# Создаём таблицу с детьми в 3 классе\n",
        "kids = df[(df['AgeGroup'] == 'Ребёнок') & (df['Pclass'] == 3)]\n",
        "print(kids.sort_values(by = ['Age'], ascending=False)['Name'])\n",
        "# Находим самого старого мужчину, который не выжил\n",
        "old_men = df[(df['Sex'] == 'male') & (df['Survived'] == 0)]\n",
        "print(old_men[(old_men['Age'] == max(old_men['Age']))])\n",
        "\n",
        "# Часть 3.3\n",
        "# Добавляем столбец FamilySize с помощью assign (добавляет новый столбец)\n",
        "df = df.assign(FamilySize = df['SibSp'] + df['Parch'] + 1)\n",
        "# Функция, сортирующая людей на одиночек и семейных людей\n",
        "def is_alone(family_size):\n",
        "  if family_size == 1:\n",
        "    return 1\n",
        "  else:\n",
        "    return 0\n",
        "# Создание нового столбца IsAlone\n",
        "df['IsAlone'] = df['FamilySize'].apply(is_alone)\n",
        "# Находим проценты выживших по путешествию в одиночку или с семьёй\n",
        "print(df.groupby('IsAlone')['Survived'].mean())\n",
        "# Вывод одинокое люди выживали примерно на 20% меньше, чем люди с семьёй"
      ],
      "metadata": {
        "colab": {
          "base_uri": "https://localhost:8080/"
        },
        "id": "cyc-M-s_eS4Y",
        "outputId": "cd41be53-2411-4850-8e31-eee0253c27b6"
      },
      "execution_count": 42,
      "outputs": [
        {
          "output_type": "stream",
          "name": "stdout",
          "text": [
            "Sex\n",
            "female    0.742038\n",
            "male      0.188908\n",
            "Name: Survived, dtype: float64\n",
            "Pclass\n",
            "1    0.629630\n",
            "2    0.472826\n",
            "3    0.242363\n",
            "Name: Survived, dtype: float64\n",
            "Sex       female      male\n",
            "Pclass                    \n",
            "1       0.968085  0.368852\n",
            "2       0.921053  0.157407\n",
            "3       0.500000  0.135447\n",
            "68     Andersson, Miss. Erna Alexandra\n",
            "844                Culumovic, Mr. Jeso\n",
            "532               Elias, Mr. Joseph Jr\n",
            "433         Kallio, Mr. Nikolai Erland\n",
            "163                    Calic, Mr. Jovo\n",
            "                    ...               \n",
            "172       Johnson, Miss. Eleanor Ileen\n",
            "788         Dean, Master. Bertram Vere\n",
            "469      Baclini, Miss. Helene Barbara\n",
            "644             Baclini, Miss. Eugenie\n",
            "803    Thomas, Master. Assad Alexander\n",
            "Name: Name, Length: 78, dtype: object\n",
            "     PassengerId  Survived  Pclass                 Name   Sex   Age  SibSp  \\\n",
            "851          852         0       3  Svensson, Mr. Johan  male  74.0      0   \n",
            "\n",
            "     Parch  Ticket   Fare Cabin Embarked AgeGroup  \n",
            "851      0  347060  7.775   NaN        S  Пожилой  \n",
            "IsAlone\n",
            "0    0.505650\n",
            "1    0.303538\n",
            "Name: Survived, dtype: float64\n"
          ]
        }
      ]
    },
    {
      "cell_type": "markdown",
      "source": [
        "#### **Часть 4: Формулировка выводов**\n",
        "\n",
        "В конце каждого расследования детектив составляет отчет. Основываясь на полученных в Части 3 результатах, письменно ответьте на следующие вопросы (в виде комментариев в коде или в отдельной ячейке Markdown, если вы работаете в Jupyter Notebook).\n",
        "\n",
        "1.  Какой фактор — пол или класс каюты — оказывал большее влияние на выживаемость? Приведите цифры из вашего анализа.\n",
        "2.  Подтверждает ли ваш анализ знаменитое правило \"женщины и дети в первую очередь\"? Ответ подкрепите данными по выживаемости в разных возрастных группах (`AgeGroup`) и по полу."
      ],
      "metadata": {
        "id": "KtOOOCoDmExU"
      }
    },
    {
      "cell_type": "code",
      "source": [
        "# Часть 4.1\n",
        "print(survivors)\n",
        "'''\n",
        "Sex       female      male\n",
        "Pclass\n",
        "1       0.968085  0.368852\n",
        "2       0.921053  0.157407\n",
        "3       0.500000  0.135447\n",
        "'''\n",
        "# Пол оказывал большее влияние на выживаемость\n",
        "# Женщины третьего класса имели 50% выживаемость\n",
        "# Мужчины даже первого класса выживали с вероятностью 36.9%\n",
        "# Мужчины классом ниже имели ещё более низкую выживаемость\n",
        "print()"
      ],
      "metadata": {
        "colab": {
          "base_uri": "https://localhost:8080/"
        },
        "id": "G-eNjMyjmI1P",
        "outputId": "247b023d-0f6e-4fde-c811-7ea38773a75d"
      },
      "execution_count": 48,
      "outputs": [
        {
          "output_type": "stream",
          "name": "stdout",
          "text": [
            "Sex       female      male\n",
            "Pclass                    \n",
            "1       0.968085  0.368852\n",
            "2       0.921053  0.157407\n",
            "3       0.500000  0.135447\n",
            "\n"
          ]
        }
      ]
    },
    {
      "cell_type": "code",
      "source": [
        "# Часть 4.2\n",
        "new_survivors = df.pivot_table(index='AgeGroup', columns='Sex', values='Survived', aggfunc='mean')\n",
        "print(new_survivors)\n",
        "'''\n",
        "Sex         female      male\n",
        "AgeGroup\n",
        "Взрослый  0.752896  0.166341\n",
        "Пожилой        NaN  0.125000\n",
        "Ребёнок   0.690909  0.396552\n",
        "'''\n",
        "# Анализ подтверждает знаменитое правило \"женщины и дети в первую очередь\"\n",
        "# Дети и взрослые женщины выживают с большей вероятностью, чем взрослые и пожилые мужчины\n",
        "# Пожилых женщин в датабазе/на титанике не было\n",
        "# Так что они 100% выжили, незабравшись на титаник :)\n",
        "print()"
      ],
      "metadata": {
        "colab": {
          "base_uri": "https://localhost:8080/"
        },
        "id": "cXClUOjinY4E",
        "outputId": "d7255d69-aa11-4149-89da-17ea13bd8b1b"
      },
      "execution_count": 51,
      "outputs": [
        {
          "output_type": "stream",
          "name": "stdout",
          "text": [
            "Sex         female      male\n",
            "AgeGroup                    \n",
            "Взрослый  0.752896  0.166341\n",
            "Пожилой        NaN  0.125000\n",
            "Ребёнок   0.690909  0.396552\n",
            "\n"
          ]
        }
      ]
    }
  ]
}