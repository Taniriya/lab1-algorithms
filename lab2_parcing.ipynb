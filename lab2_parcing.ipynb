{
  "nbformat": 4,
  "nbformat_minor": 0,
  "metadata": {
    "colab": {
      "provenance": [],
      "authorship_tag": "ABX9TyOuaO8tpLrv3QvVV3PtkcnT",
      "include_colab_link": true
    },
    "kernelspec": {
      "name": "python3",
      "display_name": "Python 3"
    },
    "language_info": {
      "name": "python"
    }
  },
  "cells": [
    {
      "cell_type": "markdown",
      "metadata": {
        "id": "view-in-github",
        "colab_type": "text"
      },
      "source": [
        "<a href=\"https://colab.research.google.com/github/Taniriya/lab1-algorithms/blob/main/lab2_parcing.ipynb\" target=\"_parent\"><img src=\"https://colab.research.google.com/assets/colab-badge.svg\" alt=\"Open In Colab\"/></a>"
      ]
    },
    {
      "cell_type": "markdown",
      "source": [
        "Выбрать новостной сайт (или любой другой, критерий - должен быть список однотипных данных). Получить и при помощи BeautifulSoup распарсить сайт, на выход должен получиться список (или DataFrame) с новостями. Входной параметр - дата, начиная с которой производится парсинг, либо количество новостей, которые необходимо распарсить.\n",
        "Доп. баллы - кроме заголовка новости получать ее текст и тоже добавлять в DataFrame."
      ],
      "metadata": {
        "id": "pRWvt9W6u1iK"
      }
    },
    {
      "cell_type": "code",
      "execution_count": 44,
      "metadata": {
        "colab": {
          "base_uri": "https://localhost:8080/"
        },
        "id": "MI-vLymMuzp0",
        "outputId": "a1853d38-fd7c-4321-e61f-0f0abbb77222"
      },
      "outputs": [
        {
          "output_type": "stream",
          "name": "stdout",
          "text": [
            "<Response [200]>\n"
          ]
        },
        {
          "output_type": "stream",
          "name": "stderr",
          "text": [
            "/tmp/ipython-input-2416740071.py:11: DeprecationWarning: Call to deprecated method findAll. (Replaced by find_all) -- Deprecated since version 4.0.0.\n",
            "  news_headings = bs.findAll('a', class_='main__feed__link js-yandex-counter js-visited', href=True)\n"
          ]
        },
        {
          "output_type": "stream",
          "name": "stdout",
          "text": [
            "None\n",
            "<div class=\"article__text__overview\">\n",
            "<span>Глава Минэнерго Турции рассказал, что нефть закупают в основном частные компании и они принимают коммерческие решения по поводу своих поставщиков. Трамп требовал отказаться от поставок нефти из России</span>\n",
            "</div>\n",
            "<div class=\"article__text__overview\">\n",
            "<span>За текущую неделю доллар к рублю подешевел почти на 3%. Однако аналитики по-прежнему видят потенциал для ослабления рубля к концу года</span>\n",
            "</div>\n",
            "<div class=\"article__text__overview\">\n",
            "<span>Более 20 заправок под брендом Gazprom принадлежат сербской NIS, основной владелец которой — «Газпром». Компания продаст АЗС местному топливному трейдеру</span>\n",
            "</div>\n",
            "<div class=\"article__text__overview\">\n",
            "<span>Власти изучают, как усилить контроль за проверкой клиентов криптокомпаний. Сейчас это не так просто из-за анонимности как самих клиентов, так и многих операций. РБК разбирался, как устроен криптокомплаенс в России сейчас и кого еще он может затронуть</span>\n",
            "</div>\n",
            "<div class=\"article__text__overview\">\n",
            "<span>Министра культуры в Литве отправили в отставку после того, как он не смог ответить на вопрос «чей Крым».</span>\n",
            "</div>\n",
            "<div class=\"article__text__overview\">\n",
            "<span>Каждый четвертый европеец работает на одного работодателя более 20 лет. Почему высоко ценившаяся раньше такая «усидчивость» вредит бизнесу в современной экономике и какие меры помогут исправить ситуацию</span>\n",
            "</div>\n",
            "<div class=\"article__text__overview\">\n",
            "<span>Мерц в Дании «очень резко» высказался против финансирования «стены дронов» из фондов ЕС. Против, по данным Politico, также выступили Греция и Италия: последняя указала, что проект должен быть полезен не только восточному флангу</span>\n",
            "</div>\n",
            "<div class=\"article__text__overview\">\n",
            "<span>Европейский центральный банк оценил эффект от увеличения военных расходов Евросоюза: план на €800 млрд добавит 0,5% к ВВП, но увеличит госдолг на 2 п.п. РБК разбирался, почему дополнительные траты на оборону не принесут Европе большого выигрыша</span>\n",
            "</div>\n",
            "<div class=\"article__text__overview\">\n",
            "<span>Часть разрушений — критические, заявили в компании. Минобороны России ранее сообщало об ударе в ночь на 3 октября по объектам газово-энергетической инфраструктуры, обеспечивающей предприятия ВПК Украины</span>\n",
            "</div>\n",
            "<div class=\"article__text__overview\">\n",
            "<span>Желание предпринимателей заработать на криптовалютах параллельно основному бизнесу в конце года ставит их бухгалтеров в тупик, а по итогу часто приводит в суды. Разбирались, какие споры возникают у бизнеса с налоговой из-за операций с цифровыми активами</span>\n",
            "</div>\n",
            "<div class=\"article__text__overview\">\n",
            "<span>Полтора десятка дронов заметили над военной базой в Бельгии. Минобороны страны начало расследование. После этого беспилотники направились в Германию, где нарушили работу мюнхенского аэропорта</span>\n",
            "</div>\n",
            "<div class=\"article__text__overview\">\n",
            "<span>В регионе утром объявили опасность атаки БПЛА, власти сообщили о работе Минобороны в Орске. Какое предприятие было атаковано, не уточнялось. За 3 октября это второе сообщение об атаках дронов за 1,5 тыс. км от границы с Украиной</span>\n",
            "</div>\n",
            "<div class=\"article__text__overview\">\n",
            "<span>При переходе с 1 января на ставку НДС в размере 22% у бизнеса может возникнуть ряд практических сложностей, предупредили консультанты Б1. В чем они состоят и что нужно успеть сделать до начала нового года, чтобы избежать проблем, — в материале РБК</span>\n",
            "</div>\n",
            "<div class=\"article__text__overview\">\n",
            "<span>По большинству регионов с 1 октября 2026 года плата за электричество возрастет в пределах 11%. Исключение составят лишь новые регионы с ростом на 50%. Но даже после этого тарифы в ДНР и ЛНР будут одними из минимальных</span>\n",
            "</div>\n",
            "<div class=\"article__text__overview\">\n",
            "<span>Бизнесмена Ибрагима Сулейманова, которого связывают с компанией «Сирена-тревэл», задержали по делу 20-летней давности — об убийстве экс-главы Федеральной службы по финансовому оздоровлению и банкротствам Георгия Таля в 2004-м</span>\n",
            "</div>\n"
          ]
        }
      ],
      "source": [
        "from bs4 import BeautifulSoup\n",
        "import requests\n",
        "import pandas as pd\n",
        "\n",
        "\n",
        "df = pd.DataFrame(columns=('Headings', 'Text'))\n",
        "url = 'https://www.rbc.ru/'\n",
        "response = requests.get(url)\n",
        "print(response)\n",
        "bs = BeautifulSoup(response.text, \"html.parser\")\n",
        "news_headings = bs.findAll('a', class_='main__feed__link js-yandex-counter js-visited', href=True)\n",
        "for i in range(len(news_headings)):\n",
        "  news_heading = news_headings[i].find('span', class_='g-inline-text-badges__text')\n",
        "  news_text_link = news_headings[i]['href']\n",
        "  response = requests.get(news_text_link)\n",
        "  news = BeautifulSoup(response.text, \"html.parser\")\n",
        "  news_text = news.find('div', class_='article__text__overview')\n",
        "  print(news_text)\n",
        "  \"\"\"df.loc[i] = [new_heading, news_text]\"\"\"\n"
      ]
    }
  ]
}